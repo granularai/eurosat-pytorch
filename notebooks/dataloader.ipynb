{
 "cells": [
  {
   "cell_type": "code",
   "execution_count": 1,
   "metadata": {},
   "outputs": [
    {
     "ename": "ModuleNotFoundError",
     "evalue": "No module named 'torch._C'",
     "output_type": "error",
     "traceback": [
      "\u001b[0;31m---------------------------------------------------------------------------\u001b[0m",
      "\u001b[0;31mModuleNotFoundError\u001b[0m                       Traceback (most recent call last)",
      "\u001b[0;32m/tmp/ipykernel_31807/3766348152.py\u001b[0m in \u001b[0;36m<module>\u001b[0;34m\u001b[0m\n\u001b[0;32m----> 1\u001b[0;31m \u001b[0;32mimport\u001b[0m \u001b[0mos\u001b[0m\u001b[0;34m,\u001b[0m \u001b[0mglob\u001b[0m\u001b[0;34m,\u001b[0m \u001b[0mjson\u001b[0m\u001b[0;34m,\u001b[0m \u001b[0mtorch\u001b[0m\u001b[0;34m,\u001b[0m \u001b[0mtimm\u001b[0m\u001b[0;34m\u001b[0m\u001b[0;34m\u001b[0m\u001b[0m\n\u001b[0m\u001b[1;32m      2\u001b[0m \u001b[0;34m\u001b[0m\u001b[0m\n\u001b[1;32m      3\u001b[0m \u001b[0;32mimport\u001b[0m \u001b[0mnumpy\u001b[0m \u001b[0;32mas\u001b[0m \u001b[0mnp\u001b[0m\u001b[0;34m\u001b[0m\u001b[0;34m\u001b[0m\u001b[0m\n\u001b[1;32m      4\u001b[0m \u001b[0;32mimport\u001b[0m \u001b[0mpandas\u001b[0m \u001b[0;32mas\u001b[0m \u001b[0mpd\u001b[0m\u001b[0;34m\u001b[0m\u001b[0;34m\u001b[0m\u001b[0m\n\u001b[1;32m      5\u001b[0m \u001b[0;32mimport\u001b[0m \u001b[0mrasterio\u001b[0m \u001b[0;32mas\u001b[0m \u001b[0mrio\u001b[0m\u001b[0;34m\u001b[0m\u001b[0;34m\u001b[0m\u001b[0m\n",
      "\u001b[0;32m~/anaconda3/envs/phobos/lib/python3.9/site-packages/timm/__init__.py\u001b[0m in \u001b[0;36m<module>\u001b[0;34m\u001b[0m\n\u001b[1;32m      1\u001b[0m \u001b[0;32mfrom\u001b[0m \u001b[0;34m.\u001b[0m\u001b[0mversion\u001b[0m \u001b[0;32mimport\u001b[0m \u001b[0m__version__\u001b[0m\u001b[0;34m\u001b[0m\u001b[0;34m\u001b[0m\u001b[0m\n\u001b[0;32m----> 2\u001b[0;31m \u001b[0;32mfrom\u001b[0m \u001b[0;34m.\u001b[0m\u001b[0mmodels\u001b[0m \u001b[0;32mimport\u001b[0m \u001b[0mcreate_model\u001b[0m\u001b[0;34m,\u001b[0m \u001b[0mlist_models\u001b[0m\u001b[0;34m,\u001b[0m \u001b[0mis_model\u001b[0m\u001b[0;34m,\u001b[0m \u001b[0mlist_modules\u001b[0m\u001b[0;34m,\u001b[0m \u001b[0mmodel_entrypoint\u001b[0m\u001b[0;34m,\u001b[0m\u001b[0;31m \u001b[0m\u001b[0;31m\\\u001b[0m\u001b[0;34m\u001b[0m\u001b[0;34m\u001b[0m\u001b[0m\n\u001b[0m\u001b[1;32m      3\u001b[0m     \u001b[0mis_scriptable\u001b[0m\u001b[0;34m,\u001b[0m \u001b[0mis_exportable\u001b[0m\u001b[0;34m,\u001b[0m \u001b[0mset_scriptable\u001b[0m\u001b[0;34m,\u001b[0m \u001b[0mset_exportable\u001b[0m\u001b[0;34m,\u001b[0m \u001b[0mhas_model_default_key\u001b[0m\u001b[0;34m,\u001b[0m \u001b[0mis_model_default_key\u001b[0m\u001b[0;34m,\u001b[0m\u001b[0;31m \u001b[0m\u001b[0;31m\\\u001b[0m\u001b[0;34m\u001b[0m\u001b[0;34m\u001b[0m\u001b[0m\n\u001b[1;32m      4\u001b[0m     \u001b[0mget_model_default_value\u001b[0m\u001b[0;34m,\u001b[0m \u001b[0mis_model_pretrained\u001b[0m\u001b[0;34m\u001b[0m\u001b[0;34m\u001b[0m\u001b[0m\n",
      "\u001b[0;32m~/anaconda3/envs/phobos/lib/python3.9/site-packages/timm/models/__init__.py\u001b[0m in \u001b[0;36m<module>\u001b[0;34m\u001b[0m\n\u001b[0;32m----> 1\u001b[0;31m \u001b[0;32mfrom\u001b[0m \u001b[0;34m.\u001b[0m\u001b[0mbeit\u001b[0m \u001b[0;32mimport\u001b[0m \u001b[0;34m*\u001b[0m\u001b[0;34m\u001b[0m\u001b[0;34m\u001b[0m\u001b[0m\n\u001b[0m\u001b[1;32m      2\u001b[0m \u001b[0;32mfrom\u001b[0m \u001b[0;34m.\u001b[0m\u001b[0mbyoanet\u001b[0m \u001b[0;32mimport\u001b[0m \u001b[0;34m*\u001b[0m\u001b[0;34m\u001b[0m\u001b[0;34m\u001b[0m\u001b[0m\n\u001b[1;32m      3\u001b[0m \u001b[0;32mfrom\u001b[0m \u001b[0;34m.\u001b[0m\u001b[0mbyobnet\u001b[0m \u001b[0;32mimport\u001b[0m \u001b[0;34m*\u001b[0m\u001b[0;34m\u001b[0m\u001b[0;34m\u001b[0m\u001b[0m\n\u001b[1;32m      4\u001b[0m \u001b[0;32mfrom\u001b[0m \u001b[0;34m.\u001b[0m\u001b[0mcait\u001b[0m \u001b[0;32mimport\u001b[0m \u001b[0;34m*\u001b[0m\u001b[0;34m\u001b[0m\u001b[0;34m\u001b[0m\u001b[0m\n\u001b[1;32m      5\u001b[0m \u001b[0;32mfrom\u001b[0m \u001b[0;34m.\u001b[0m\u001b[0mcoat\u001b[0m \u001b[0;32mimport\u001b[0m \u001b[0;34m*\u001b[0m\u001b[0;34m\u001b[0m\u001b[0;34m\u001b[0m\u001b[0m\n",
      "\u001b[0;32m~/anaconda3/envs/phobos/lib/python3.9/site-packages/timm/models/beit.py\u001b[0m in \u001b[0;36m<module>\u001b[0;34m\u001b[0m\n\u001b[1;32m     24\u001b[0m \u001b[0;34m\u001b[0m\u001b[0m\n\u001b[1;32m     25\u001b[0m \u001b[0;32mimport\u001b[0m \u001b[0mtorch\u001b[0m\u001b[0;34m\u001b[0m\u001b[0;34m\u001b[0m\u001b[0m\n\u001b[0;32m---> 26\u001b[0;31m \u001b[0;32mimport\u001b[0m \u001b[0mtorch\u001b[0m\u001b[0;34m.\u001b[0m\u001b[0mnn\u001b[0m \u001b[0;32mas\u001b[0m \u001b[0mnn\u001b[0m\u001b[0;34m\u001b[0m\u001b[0;34m\u001b[0m\u001b[0m\n\u001b[0m\u001b[1;32m     27\u001b[0m \u001b[0;32mimport\u001b[0m \u001b[0mtorch\u001b[0m\u001b[0;34m.\u001b[0m\u001b[0mnn\u001b[0m\u001b[0;34m.\u001b[0m\u001b[0mfunctional\u001b[0m \u001b[0;32mas\u001b[0m \u001b[0mF\u001b[0m\u001b[0;34m\u001b[0m\u001b[0;34m\u001b[0m\u001b[0m\n\u001b[1;32m     28\u001b[0m \u001b[0;34m\u001b[0m\u001b[0m\n",
      "\u001b[0;32m~/anaconda3/envs/phobos/lib/python3.9/site-packages/torch/nn/__init__.py\u001b[0m in \u001b[0;36m<module>\u001b[0;34m\u001b[0m\n\u001b[0;32m----> 1\u001b[0;31m \u001b[0;32mfrom\u001b[0m \u001b[0;34m.\u001b[0m\u001b[0mmodules\u001b[0m \u001b[0;32mimport\u001b[0m \u001b[0;34m*\u001b[0m  \u001b[0;31m# noqa: F403\u001b[0m\u001b[0;34m\u001b[0m\u001b[0;34m\u001b[0m\u001b[0m\n\u001b[0m\u001b[1;32m      2\u001b[0m \u001b[0;32mfrom\u001b[0m \u001b[0;34m.\u001b[0m\u001b[0mparameter\u001b[0m \u001b[0;32mimport\u001b[0m \u001b[0mParameter\u001b[0m\u001b[0;34m,\u001b[0m \u001b[0mUninitializedParameter\u001b[0m\u001b[0;34m,\u001b[0m \u001b[0mUninitializedBuffer\u001b[0m\u001b[0;34m\u001b[0m\u001b[0;34m\u001b[0m\u001b[0m\n\u001b[1;32m      3\u001b[0m \u001b[0;32mfrom\u001b[0m \u001b[0;34m.\u001b[0m\u001b[0mparallel\u001b[0m \u001b[0;32mimport\u001b[0m \u001b[0mDataParallel\u001b[0m\u001b[0;34m\u001b[0m\u001b[0;34m\u001b[0m\u001b[0m\n\u001b[1;32m      4\u001b[0m \u001b[0;32mfrom\u001b[0m \u001b[0;34m.\u001b[0m \u001b[0;32mimport\u001b[0m \u001b[0minit\u001b[0m\u001b[0;34m\u001b[0m\u001b[0;34m\u001b[0m\u001b[0m\n\u001b[1;32m      5\u001b[0m \u001b[0;32mfrom\u001b[0m \u001b[0;34m.\u001b[0m \u001b[0;32mimport\u001b[0m \u001b[0mfunctional\u001b[0m\u001b[0;34m\u001b[0m\u001b[0;34m\u001b[0m\u001b[0m\n",
      "\u001b[0;32m~/anaconda3/envs/phobos/lib/python3.9/site-packages/torch/nn/modules/__init__.py\u001b[0m in \u001b[0;36m<module>\u001b[0;34m\u001b[0m\n\u001b[0;32m----> 1\u001b[0;31m \u001b[0;32mfrom\u001b[0m \u001b[0;34m.\u001b[0m\u001b[0mmodule\u001b[0m \u001b[0;32mimport\u001b[0m \u001b[0mModule\u001b[0m\u001b[0;34m\u001b[0m\u001b[0;34m\u001b[0m\u001b[0m\n\u001b[0m\u001b[1;32m      2\u001b[0m \u001b[0;32mfrom\u001b[0m \u001b[0;34m.\u001b[0m\u001b[0mlinear\u001b[0m \u001b[0;32mimport\u001b[0m \u001b[0mIdentity\u001b[0m\u001b[0;34m,\u001b[0m \u001b[0mLinear\u001b[0m\u001b[0;34m,\u001b[0m \u001b[0mBilinear\u001b[0m\u001b[0;34m,\u001b[0m \u001b[0mLazyLinear\u001b[0m\u001b[0;34m\u001b[0m\u001b[0;34m\u001b[0m\u001b[0m\n\u001b[1;32m      3\u001b[0m \u001b[0;32mfrom\u001b[0m \u001b[0;34m.\u001b[0m\u001b[0mconv\u001b[0m \u001b[0;32mimport\u001b[0m \u001b[0mConv1d\u001b[0m\u001b[0;34m,\u001b[0m \u001b[0mConv2d\u001b[0m\u001b[0;34m,\u001b[0m \u001b[0mConv3d\u001b[0m\u001b[0;34m,\u001b[0m\u001b[0;31m \u001b[0m\u001b[0;31m\\\u001b[0m\u001b[0;34m\u001b[0m\u001b[0;34m\u001b[0m\u001b[0m\n\u001b[1;32m      4\u001b[0m     \u001b[0mConvTranspose1d\u001b[0m\u001b[0;34m,\u001b[0m \u001b[0mConvTranspose2d\u001b[0m\u001b[0;34m,\u001b[0m \u001b[0mConvTranspose3d\u001b[0m\u001b[0;34m,\u001b[0m\u001b[0;31m \u001b[0m\u001b[0;31m\\\u001b[0m\u001b[0;34m\u001b[0m\u001b[0;34m\u001b[0m\u001b[0m\n\u001b[1;32m      5\u001b[0m     \u001b[0mLazyConv1d\u001b[0m\u001b[0;34m,\u001b[0m \u001b[0mLazyConv2d\u001b[0m\u001b[0;34m,\u001b[0m \u001b[0mLazyConv3d\u001b[0m\u001b[0;34m,\u001b[0m \u001b[0mLazyConvTranspose1d\u001b[0m\u001b[0;34m,\u001b[0m \u001b[0mLazyConvTranspose2d\u001b[0m\u001b[0;34m,\u001b[0m \u001b[0mLazyConvTranspose3d\u001b[0m\u001b[0;34m\u001b[0m\u001b[0;34m\u001b[0m\u001b[0m\n",
      "\u001b[0;32m~/anaconda3/envs/phobos/lib/python3.9/site-packages/torch/nn/modules/module.py\u001b[0m in \u001b[0;36m<module>\u001b[0;34m\u001b[0m\n\u001b[1;32m      5\u001b[0m \u001b[0;34m\u001b[0m\u001b[0m\n\u001b[1;32m      6\u001b[0m \u001b[0;32mimport\u001b[0m \u001b[0mtorch\u001b[0m\u001b[0;34m\u001b[0m\u001b[0;34m\u001b[0m\u001b[0m\n\u001b[0;32m----> 7\u001b[0;31m \u001b[0;32mfrom\u001b[0m \u001b[0;34m.\u001b[0m\u001b[0;34m.\u001b[0m\u001b[0mparameter\u001b[0m \u001b[0;32mimport\u001b[0m \u001b[0mParameter\u001b[0m\u001b[0;34m\u001b[0m\u001b[0;34m\u001b[0m\u001b[0m\n\u001b[0m\u001b[1;32m      8\u001b[0m \u001b[0;32mimport\u001b[0m \u001b[0mtorch\u001b[0m\u001b[0;34m.\u001b[0m\u001b[0mutils\u001b[0m\u001b[0;34m.\u001b[0m\u001b[0mhooks\u001b[0m \u001b[0;32mas\u001b[0m \u001b[0mhooks\u001b[0m\u001b[0;34m\u001b[0m\u001b[0;34m\u001b[0m\u001b[0m\n\u001b[1;32m      9\u001b[0m \u001b[0;34m\u001b[0m\u001b[0m\n",
      "\u001b[0;32m~/anaconda3/envs/phobos/lib/python3.9/site-packages/torch/nn/parameter.py\u001b[0m in \u001b[0;36m<module>\u001b[0;34m\u001b[0m\n\u001b[1;32m      1\u001b[0m \u001b[0;32mimport\u001b[0m \u001b[0mtorch\u001b[0m\u001b[0;34m\u001b[0m\u001b[0;34m\u001b[0m\u001b[0m\n\u001b[0;32m----> 2\u001b[0;31m \u001b[0;32mfrom\u001b[0m \u001b[0mtorch\u001b[0m\u001b[0;34m.\u001b[0m\u001b[0m_C\u001b[0m \u001b[0;32mimport\u001b[0m \u001b[0m_disabled_torch_function_impl\u001b[0m\u001b[0;34m\u001b[0m\u001b[0;34m\u001b[0m\u001b[0m\n\u001b[0m\u001b[1;32m      3\u001b[0m \u001b[0;32mfrom\u001b[0m \u001b[0mcollections\u001b[0m \u001b[0;32mimport\u001b[0m \u001b[0mOrderedDict\u001b[0m\u001b[0;34m\u001b[0m\u001b[0;34m\u001b[0m\u001b[0m\n\u001b[1;32m      4\u001b[0m \u001b[0;34m\u001b[0m\u001b[0m\n\u001b[1;32m      5\u001b[0m \u001b[0;34m\u001b[0m\u001b[0m\n",
      "\u001b[0;31mModuleNotFoundError\u001b[0m: No module named 'torch._C'"
     ]
    }
   ],
   "source": [
    "import os, glob, json, torch, timm\n",
    "\n",
    "import numpy as np\n",
    "import pandas as pd\n",
    "import rasterio as rio"
   ]
  },
  {
   "cell_type": "code",
   "execution_count": 2,
   "metadata": {},
   "outputs": [],
   "source": [
    "from torch.utils.data import Dataset, DataLoader\n"
   ]
  },
  {
   "cell_type": "code",
   "execution_count": 3,
   "metadata": {},
   "outputs": [],
   "source": [
    "class EuroSATDataset(Dataset):\n",
    "    def __init__(self, mode, root_dir):\n",
    "        vec_file = f\"{root_dir}/vectors/{mode}.csv\"\n",
    "        meta_file = f\"{root_dir}/vectors/metadata.json\"\n",
    "        with open(meta_file) as out:\n",
    "            task_meta = json.load(out)\n",
    "\n",
    "        classes = [lbl_meta[\"options\"] for lbl_meta in task_meta[\"label:metadata\"]][0]\n",
    "        cls_idx_map = {cls: idx for idx, cls in enumerate(classes)}\n",
    "\n",
    "        vec_df = pd.read_csv(vec_file)\n",
    "        vec_df[\"image\"] = vec_df[\"image:01\"].apply(lambda x: f'{root_dir}/rasters/{x.split(\"/\")[-1]}')\n",
    "        vec_df[\"label\"] = vec_df[\"land-use-land-cover-class\"].apply(lambda x: cls_idx_map[x])\n",
    "        vec_df.drop(['image-id','image:01','date:01','type','geometry','land-use-land-cover-class'],axis=1,inplace=True)\n",
    "\n",
    "        self.vec_df = vec_df\n",
    "        self.classes = classes\n",
    "\n",
    "    def __len__(self):\n",
    "        return len(self.vec_df)\n",
    "\n",
    "    def __getitem__(self, idx):\n",
    "        df_entry = self.vec_df.loc[idx]\n",
    "        smpl_map = {\n",
    "            \"image\": rio.open(df_entry[\"image\"]).read(),\n",
    "            \"label\": df_entry[\"label\"]\n",
    "        }\n",
    "        \n",
    "        return smpl_map"
   ]
  },
  {
   "cell_type": "code",
   "execution_count": 4,
   "metadata": {},
   "outputs": [],
   "source": [
    "root_dir = \"/home/akash/Downloads/EuroSAT\"\n",
    "num_workers = 4\n",
    "batch_size = 512\n",
    "\n",
    "rstr_root_dir = f\"{root_dir}/rasters\"\n",
    "vctr_root_dir = f\"{root_dir}/vectors\"\n",
    "\n",
    "train_ds = EuroSATDataset(root_dir=root_dir, mode=\"train\")\n",
    "val_ds = EuroSATDataset(root_dir=root_dir, mode=\"val\")\n",
    "\n",
    "train_dl = DataLoader(train_ds, batch_size=batch_size, shuffle=True, num_workers=num_workers)\n",
    "val_dl = DataLoader(val_ds, batch_size=batch_size, shuffle=False, num_workers=num_workers)"
   ]
  },
  {
   "cell_type": "code",
   "execution_count": 5,
   "metadata": {},
   "outputs": [],
   "source": [
    "from torchvision.models import resnet50\n",
    "from torch.nn import CrossEntropyLoss\n",
    "from torch.optim import SGD\n",
    "from torch.optim.lr_scheduler import StepLR"
   ]
  },
  {
   "cell_type": "code",
   "execution_count": 6,
   "metadata": {},
   "outputs": [],
   "source": [
    "device = torch.device(\"cuda\")\n",
    "classes = train_ds.classes\n",
    "num_classes = len(classes)\n",
    "\n",
    "lr = 0.01\n",
    "momemtum = 0.9\n",
    "weight_decay = 1e-4"
   ]
  },
  {
   "cell_type": "code",
   "execution_count": null,
   "metadata": {},
   "outputs": [],
   "source": [
    "model = resnet50(num_classes=num_classes)\n",
    "\n",
    "model.to(device)"
   ]
  },
  {
   "cell_type": "code",
   "execution_count": 8,
   "metadata": {},
   "outputs": [],
   "source": [
    "criterion = CrossEntropyLoss().to(device)\n",
    "optimizer = SGD(model.parameters(),lr=lr,momentum=momemtum,weight_decay=weight_decay)\n",
    "scheduler = StepLR(optimizer,step_size=30,gamma=0.1)"
   ]
  },
  {
   "cell_type": "code",
   "execution_count": 9,
   "metadata": {},
   "outputs": [],
   "source": [
    "def update_losses(losses, loss):\n",
    "    losses += [loss.item()]\n",
    "\n",
    "def update_confusion_matrix(conf_matrix, outputs, labels):\n",
    "    with torch.no_grad():\n",
    "        maxk, batch_size = 1, labels.size(0)\n",
    "\n",
    "        _, pred = outputs.topk(maxk,1,True, True)\n",
    "        \n",
    "        pred = pred.t().tolist()[0]\n",
    "        truth = labels.tolist()\n",
    "\n",
    "        for tidx, pidx in zip(truth,pred):\n",
    "            conf_matrix[tidx,pidx] += 1\n",
    "        "
   ]
  },
  {
   "cell_type": "code",
   "execution_count": 10,
   "metadata": {},
   "outputs": [],
   "source": [
    "def print_loss_metrics(losses, conf_matrix, num_classes):\n",
    "    avg_loss = sum(losses)/len(losses)\n",
    "\n",
    "    recall = [conf_matrix[i,i]/sum(conf_matrix[:,i]) for i in range(num_classes)]\n",
    "    precision = [conf_matrix[i,i]/sum(conf_matrix[i,:]) for i in range(num_classes)]\n",
    "    f1_score = [(2*precision[i]*recall[i])/(precision[i]+recall[i]) for i in range(num_classes)]\n",
    "\n",
    "    recall_map = {classes[idx]: recall[idx] for idx in range(num_classes)}\n",
    "    precision_map = {classes[idx]: precision[idx] for idx in range(num_classes)}\n",
    "    f1_score_map = {classes[idx]: f1_score[idx] for idx in range(num_classes)}\n",
    "\n",
    "    metric_maps = {\n",
    "        \"precision\": precision_map,\n",
    "        \"recall\": recall_map,\n",
    "        \"f1 score\": f1_score_map\n",
    "    }\n",
    "\n",
    "    avg_metric_map = {\n",
    "        \"precision\": sum(precision)/num_classes,\n",
    "        \"recall\": sum(recall)/num_classes,\n",
    "        \"f1 score\": sum(f1_score)/num_classes,\n",
    "        \"accuracy\": sum([conf_matrix[i,i] for i in range(num_classes)])/conf_matrix.sum()\n",
    "    }\n",
    "\n",
    "    print(f\"\\t\\t loss: {avg_loss}\")\n",
    "\n",
    "    print(\"\\t\\t metrics:\")\n",
    "    \n",
    "    print(\"\\t\\t\\t confusion matrix:\")\n",
    "    print(\"\\t\\t\\t \"+f\"{conf_matrix}\".replace(\"\\n\",\"\\n\\t\\t\\t\"))\n",
    "    print(\"\")\n",
    "\n",
    "    print(\"\\t\\t\\t class level metrics:\")\n",
    "    for met_key in metric_maps:\n",
    "        print(f\"\\t\\t\\t\\t {met_key}\")\n",
    "        for cls, metric in metric_maps[met_key].items():\n",
    "            print(f\"\\t\\t\\t\\t\\t {cls}: {metric}\")\n",
    "    print(\"\")\n",
    "\n",
    "    print(\"\\t\\t\\t overall metrics:\")\n",
    "    for met_key in avg_metric_map:\n",
    "        print(f\"\\t\\t\\t\\t {met_key}: {avg_metric_map[met_key]}\")\n",
    "    print(\"\")\n",
    "\n",
    "    return avg_metric_map[\"f1 score\"]\n"
   ]
  },
  {
   "cell_type": "code",
   "execution_count": 11,
   "metadata": {},
   "outputs": [
    {
     "name": "stdout",
     "output_type": "stream",
     "text": [
      "epoch 1\n",
      "\t Train : \n",
      "\t\t loss: 2.01353091417357\n",
      "\t\t metrics:\n",
      "\t\t\t confusion matrix:\n",
      "\t\t\t [[ 745   36  228   74  143   51  335  600  132   81]\n",
      "\t\t\t [  64 1662   40    2   49   56    8  116  179  212]\n",
      "\t\t\t [ 457  122  363  100   83  145  208  537  211  201]\n",
      "\t\t\t [ 319  114  204  160  136   87  158  402  218  193]\n",
      "\t\t\t [ 207    0   41   45 1409    0  119  150   28    3]\n",
      "\t\t\t [  95  197  178   77   37  294   31  198  243  253]\n",
      "\t\t\t [ 544   26  232   69  124   50  293  497   95   66]\n",
      "\t\t\t [ 466   15  322  131  153   31  209  763  187  120]\n",
      "\t\t\t [ 228  208  182  164   77  137   69  348  268  273]\n",
      "\t\t\t [ 149  662  168   25   62  114   35  229  209  764]]\n",
      "\n",
      "\t\t\t class level metrics:\n",
      "\t\t\t\t precision\n",
      "\t\t\t\t\t AnnualCrop: 0.30721649484536084\n",
      "\t\t\t\t\t Forest: 0.6959798994974874\n",
      "\t\t\t\t\t HerbaceousVegetation: 0.14956736711990112\n",
      "\t\t\t\t\t Highway: 0.0803616273229533\n",
      "\t\t\t\t\t Industrial: 0.7037962037962038\n",
      "\t\t\t\t\t Pasture: 0.18340611353711792\n",
      "\t\t\t\t\t PermanentCrop: 0.1467935871743487\n",
      "\t\t\t\t\t Residential: 0.3183145598664998\n",
      "\t\t\t\t\t River: 0.13715455475946775\n",
      "\t\t\t\t\t SeaLake: 0.3160943318163012\n",
      "\t\t\t\t recall\n",
      "\t\t\t\t\t AnnualCrop: 0.22755039706780697\n",
      "\t\t\t\t\t Forest: 0.5463510848126233\n",
      "\t\t\t\t\t HerbaceousVegetation: 0.1853932584269663\n",
      "\t\t\t\t\t Highway: 0.18890200708382526\n",
      "\t\t\t\t\t Industrial: 0.6198856137263529\n",
      "\t\t\t\t\t Pasture: 0.30466321243523314\n",
      "\t\t\t\t\t PermanentCrop: 0.2\n",
      "\t\t\t\t\t Residential: 0.19869791666666667\n",
      "\t\t\t\t\t River: 0.15141242937853108\n",
      "\t\t\t\t\t SeaLake: 0.3527239150507849\n",
      "\t\t\t\t f1 score\n",
      "\t\t\t\t\t AnnualCrop: 0.26144937708369886\n",
      "\t\t\t\t\t Forest: 0.6121546961325967\n",
      "\t\t\t\t\t HerbaceousVegetation: 0.16556442417331813\n",
      "\t\t\t\t\t Highway: 0.11275546159267089\n",
      "\t\t\t\t\t Industrial: 0.6591812865497075\n",
      "\t\t\t\t\t Pasture: 0.2289719626168224\n",
      "\t\t\t\t\t PermanentCrop: 0.16931522681305983\n",
      "\t\t\t\t\t Residential: 0.24466891133557803\n",
      "\t\t\t\t\t River: 0.14393125671321158\n",
      "\t\t\t\t\t SeaLake: 0.33340606589570154\n",
      "\n",
      "\t\t\t overall metrics:\n",
      "\t\t\t\t precision: 0.3038684739735642\n",
      "\t\t\t\t recall: 0.29755798346487905\n",
      "\t\t\t\t f1 score: 0.29313986689063654\n",
      "\t\t\t\t accuracy: 0.3111574074074074\n",
      "\n",
      "\t Val : \n",
      "\t\t loss: 1.511193329637701\n",
      "\t\t metrics:\n",
      "\t\t\t confusion matrix:\n",
      "\t\t\t [[334   1  23   6   0  16  18 116  45  16]\n",
      "\t\t\t [  0 390   0   0   0  43   0   1  22 156]\n",
      "\t\t\t [ 93  11  63   3   4 114  28 164  59  34]\n",
      "\t\t\t [ 66   0  12   9   8  11   7 206 176  14]\n",
      "\t\t\t [  3   0   0  36 334   0   0 124   1   0]\n",
      "\t\t\t [  0  10   6   0   0 170   0  19 136  56]\n",
      "\t\t\t [217   0  12   3   2  13  40 158  53   6]\n",
      "\t\t\t [ 49   0   7   4   5   6   3 419  63  47]\n",
      "\t\t\t [ 17   3   5   5   3  12   0 142 311  48]\n",
      "\t\t\t [  2  28   2   0   1  51   1  14  38 446]]\n",
      "\n",
      "\t\t\t class level metrics:\n",
      "\t\t\t\t precision\n",
      "\t\t\t\t\t AnnualCrop: 0.5808695652173913\n",
      "\t\t\t\t\t Forest: 0.6372549019607843\n",
      "\t\t\t\t\t HerbaceousVegetation: 0.1099476439790576\n",
      "\t\t\t\t\t Highway: 0.01768172888015717\n",
      "\t\t\t\t\t Industrial: 0.6706827309236948\n",
      "\t\t\t\t\t Pasture: 0.4282115869017632\n",
      "\t\t\t\t\t PermanentCrop: 0.07936507936507936\n",
      "\t\t\t\t\t Residential: 0.6948590381426202\n",
      "\t\t\t\t\t River: 0.5695970695970696\n",
      "\t\t\t\t\t SeaLake: 0.7650085763293311\n",
      "\t\t\t\t recall\n",
      "\t\t\t\t\t AnnualCrop: 0.42765685019206146\n",
      "\t\t\t\t\t Forest: 0.8803611738148984\n",
      "\t\t\t\t\t HerbaceousVegetation: 0.4846153846153846\n",
      "\t\t\t\t\t Highway: 0.13636363636363635\n",
      "\t\t\t\t\t Industrial: 0.9355742296918768\n",
      "\t\t\t\t\t Pasture: 0.38990825688073394\n",
      "\t\t\t\t\t PermanentCrop: 0.41237113402061853\n",
      "\t\t\t\t\t Residential: 0.3074101247248716\n",
      "\t\t\t\t\t River: 0.3440265486725664\n",
      "\t\t\t\t\t SeaLake: 0.5419198055893074\n",
      "\t\t\t\t f1 score\n",
      "\t\t\t\t\t AnnualCrop: 0.4926253687315634\n",
      "\t\t\t\t\t Forest: 0.7393364928909952\n",
      "\t\t\t\t\t HerbaceousVegetation: 0.17923186344238975\n",
      "\t\t\t\t\t Highway: 0.03130434782608695\n",
      "\t\t\t\t\t Industrial: 0.7812865497076024\n",
      "\t\t\t\t\t Pasture: 0.40816326530612246\n",
      "\t\t\t\t\t PermanentCrop: 0.13311148086522462\n",
      "\t\t\t\t\t Residential: 0.4262461851475076\n",
      "\t\t\t\t\t River: 0.42896551724137927\n",
      "\t\t\t\t\t SeaLake: 0.6344238975817923\n",
      "\n",
      "\t\t\t overall metrics:\n",
      "\t\t\t\t precision: 0.4553477921296949\n",
      "\t\t\t\t recall: 0.48602071445659556\n",
      "\t\t\t\t f1 score: 0.4254694968740663\n",
      "\t\t\t\t accuracy: 0.4659259259259259\n",
      "\n"
     ]
    }
   ],
   "source": [
    "max_val_f1 = -1\n",
    "for epoch in range(1,5):\n",
    "    print(f\"epoch {epoch}\")\n",
    "\n",
    "    weights_path = \"/home/akash/Downloads/EuroSAT/weights/resnet50_ckpt_{:03d}.pth\".format(epoch)\n",
    "\n",
    "    losses = []\n",
    "    conf_matrix = np.zeros([num_classes,num_classes], dtype=np.uint32) \n",
    "    for idx, sample in enumerate(train_dl):\n",
    "        inputs = sample[\"image\"].float().to(device)\n",
    "        labels = sample[\"label\"].to(device)\n",
    "        \n",
    "        outputs = model(inputs)\n",
    "        \n",
    "        loss = criterion(outputs,labels)\n",
    "\n",
    "        optimizer.zero_grad()\n",
    "\n",
    "        loss.backward()\n",
    "        optimizer.step()\n",
    "\n",
    "        losses += [loss.item()]\n",
    "        update_confusion_matrix(conf_matrix, outputs=outputs, labels=labels)\n",
    "\n",
    "    print(\"\\t Train : \")\n",
    "    train_f1 = print_loss_metrics(losses=losses,conf_matrix=conf_matrix,num_classes=num_classes)\n",
    "\n",
    "    losses = []\n",
    "    conf_matrix = np.zeros([num_classes,num_classes], dtype=np.uint32)\n",
    "    for idx, sample in enumerate(val_dl):\n",
    "        inputs = sample[\"image\"].float().to(device)\n",
    "        labels = sample[\"label\"].to(device)\n",
    "\n",
    "        outputs = model(inputs)\n",
    "        \n",
    "        loss = criterion(outputs,labels)\n",
    "\n",
    "        losses += [loss.item()]\n",
    "        update_confusion_matrix(conf_matrix, outputs=outputs, labels=labels)\n",
    "    \n",
    "    print(\"\\t Val : \")\n",
    "    val_f1 = print_loss_metrics(losses=losses,conf_matrix=conf_matrix,num_classes=num_classes)\n",
    "    \n",
    "    if val_f1 > max_val_f1:\n",
    "        max_val_f1 = val_f1\n",
    "        torch.save(model.state_dict(), weights_path)\n",
    "\n",
    "\n"
   ]
  },
  {
   "cell_type": "code",
   "execution_count": 16,
   "metadata": {},
   "outputs": [
    {
     "data": {
      "text/plain": [
       "0"
      ]
     },
     "execution_count": 16,
     "metadata": {},
     "output_type": "execute_result"
    }
   ],
   "source": [
    "conf_matrix.sum()"
   ]
  },
  {
   "cell_type": "code",
   "execution_count": 9,
   "metadata": {},
   "outputs": [
    {
     "ename": "NameError",
     "evalue": "name 'conf_matrix' is not defined",
     "output_type": "error",
     "traceback": [
      "\u001b[0;31m---------------------------------------------------------------------------\u001b[0m",
      "\u001b[0;31mNameError\u001b[0m                                 Traceback (most recent call last)",
      "\u001b[0;32m/tmp/ipykernel_44415/1016678254.py\u001b[0m in \u001b[0;36m<module>\u001b[0;34m\u001b[0m\n\u001b[0;32m----> 1\u001b[0;31m \u001b[0mconf_matrix\u001b[0m\u001b[0;34m\u001b[0m\u001b[0;34m\u001b[0m\u001b[0m\n\u001b[0m",
      "\u001b[0;31mNameError\u001b[0m: name 'conf_matrix' is not defined"
     ]
    }
   ],
   "source": [
    "conf_matrix"
   ]
  },
  {
   "cell_type": "code",
   "execution_count": null,
   "metadata": {},
   "outputs": [],
   "source": []
  }
 ],
 "metadata": {
  "kernelspec": {
   "display_name": "Python 3.9.7 ('phobos')",
   "language": "python",
   "name": "python3"
  },
  "language_info": {
   "codemirror_mode": {
    "name": "ipython",
    "version": 3
   },
   "file_extension": ".py",
   "mimetype": "text/x-python",
   "name": "python",
   "nbconvert_exporter": "python",
   "pygments_lexer": "ipython3",
   "version": "3.9.7"
  },
  "orig_nbformat": 4,
  "vscode": {
   "interpreter": {
    "hash": "416c96f9efd8a8ffb40315f88745bb91463f1a6c2f5fa9c1c915d414fc3c9704"
   }
  }
 },
 "nbformat": 4,
 "nbformat_minor": 2
}
